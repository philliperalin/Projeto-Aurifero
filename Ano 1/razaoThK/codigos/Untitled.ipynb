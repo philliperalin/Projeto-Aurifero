{
 "cells": [
  {
   "cell_type": "code",
   "execution_count": 1,
   "metadata": {},
   "outputs": [],
   "source": [
    "import cv2\n",
    "import numpy as np\n",
    "import glob"
   ]
  },
  {
   "cell_type": "code",
   "execution_count": 2,
   "metadata": {},
   "outputs": [
    {
     "data": {
      "text/plain": [
       "['C:/Users/Ricardo/Desktop/IC/Arquivos\\\\1054\\\\1054_THKRAZAO.tif',\n",
       " 'C:/Users/Ricardo/Desktop/IC/Arquivos\\\\1055\\\\1055_THKRAZAO.tif',\n",
       " 'C:/Users/Ricardo/Desktop/IC/Arquivos\\\\1056\\\\1056_THKRAZAO.tif',\n",
       " 'C:/Users/Ricardo/Desktop/IC/Arquivos\\\\1058\\\\1058_THKRAZAO.tif',\n",
       " 'C:/Users/Ricardo/Desktop/IC/Arquivos\\\\1059\\\\1059_THKRAZAO.tif',\n",
       " 'C:/Users/Ricardo/Desktop/IC/Arquivos\\\\1064\\\\1064_THKRAZAO.tif',\n",
       " 'C:/Users/Ricardo/Desktop/IC/Arquivos\\\\1066\\\\1066_THKRAZAO.tif',\n",
       " 'C:/Users/Ricardo/Desktop/IC/Arquivos\\\\1067\\\\1067_THKRAZAO.tif',\n",
       " 'C:/Users/Ricardo/Desktop/IC/Arquivos\\\\1068\\\\1068_THKRAZAO.tif',\n",
       " 'C:/Users/Ricardo/Desktop/IC/Arquivos\\\\1069\\\\1069_THKRAZAO.tif',\n",
       " 'C:/Users/Ricardo/Desktop/IC/Arquivos\\\\1070\\\\1070_THKRAZAO.tif',\n",
       " 'C:/Users/Ricardo/Desktop/IC/Arquivos\\\\1072\\\\1072_THKRAZAO.tif',\n",
       " 'C:/Users/Ricardo/Desktop/IC/Arquivos\\\\1075\\\\1075_THKRAZAO.tif',\n",
       " 'C:/Users/Ricardo/Desktop/IC/Arquivos\\\\1076\\\\1076_THKRAZAO.tif',\n",
       " 'C:/Users/Ricardo/Desktop/IC/Arquivos\\\\1077\\\\1077_THKRAZAO.tif',\n",
       " 'C:/Users/Ricardo/Desktop/IC/Arquivos\\\\1079\\\\1079_THKRAZAO.tif',\n",
       " 'C:/Users/Ricardo/Desktop/IC/Arquivos\\\\1080\\\\1071_THKRAZAO.tif',\n",
       " 'C:/Users/Ricardo/Desktop/IC/Arquivos\\\\1080\\\\1072_THKRAZAO.tif',\n",
       " 'C:/Users/Ricardo/Desktop/IC/Arquivos\\\\1080\\\\1073_THKRAZAO.tif',\n",
       " 'C:/Users/Ricardo/Desktop/IC/Arquivos\\\\1080\\\\1074_THKRAZAO.tif',\n",
       " 'C:/Users/Ricardo/Desktop/IC/Arquivos\\\\1080\\\\1080_THKRAZAO.tif',\n",
       " 'C:/Users/Ricardo/Desktop/IC/Arquivos\\\\1081\\\\1081_THKRAZAO.tif',\n",
       " 'C:/Users/Ricardo/Desktop/IC/Arquivos\\\\1082\\\\1082_THKRAZAO.tif',\n",
       " 'C:/Users/Ricardo/Desktop/IC/Arquivos\\\\1083\\\\1083_THKRAZAO.tif',\n",
       " 'C:/Users/Ricardo/Desktop/IC/Arquivos\\\\1084\\\\1084_THKRAZAO.tif',\n",
       " 'C:/Users/Ricardo/Desktop/IC/Arquivos\\\\1085\\\\1085_THKRAZAO.tif',\n",
       " 'C:/Users/Ricardo/Desktop/IC/Arquivos\\\\1086\\\\1086_THKRAZAO.tif',\n",
       " 'C:/Users/Ricardo/Desktop/IC/Arquivos\\\\1087\\\\1087_THKRAZAO.tif',\n",
       " 'C:/Users/Ricardo/Desktop/IC/Arquivos\\\\1088\\\\1088_THKRAZAO.tif',\n",
       " 'C:/Users/Ricardo/Desktop/IC/Arquivos\\\\1089\\\\1089_THKRAZAO.tif',\n",
       " 'C:/Users/Ricardo/Desktop/IC/Arquivos\\\\1090\\\\1090_THKRAZAO.tif',\n",
       " 'C:/Users/Ricardo/Desktop/IC/Arquivos\\\\1091\\\\1091_THKRAZAO.tif',\n",
       " 'C:/Users/Ricardo/Desktop/IC/Arquivos\\\\1092\\\\1092_THKRAZAO.tif',\n",
       " 'C:/Users/Ricardo/Desktop/IC/Arquivos\\\\1093\\\\1093_THKRAZAO.tif',\n",
       " 'C:/Users/Ricardo/Desktop/IC/Arquivos\\\\1094\\\\1094_THKRAZAO.tif',\n",
       " 'C:/Users/Ricardo/Desktop/IC/Arquivos\\\\1095\\\\1095_THKRAZAO.tif',\n",
       " 'C:/Users/Ricardo/Desktop/IC/Arquivos\\\\1096\\\\1096_THKRAZAO.tif',\n",
       " 'C:/Users/Ricardo/Desktop/IC/Arquivos\\\\1097\\\\1097_THKRAZAO.tif',\n",
       " 'C:/Users/Ricardo/Desktop/IC/Arquivos\\\\1098\\\\1098_THKRAZAO.tif',\n",
       " 'C:/Users/Ricardo/Desktop/IC/Arquivos\\\\1099\\\\1099_THKRAZAO.tif',\n",
       " 'C:/Users/Ricardo/Desktop/IC/Arquivos\\\\1100\\\\1100_THKRAZAO.tif',\n",
       " 'C:/Users/Ricardo/Desktop/IC/Arquivos\\\\1101\\\\1101_THKRAZAO.tif',\n",
       " 'C:/Users/Ricardo/Desktop/IC/Arquivos\\\\1102\\\\1102_THKRAZAO.tif',\n",
       " 'C:/Users/Ricardo/Desktop/IC/Arquivos\\\\1103\\\\1103_THKRAZAO.tif',\n",
       " 'C:/Users/Ricardo/Desktop/IC/Arquivos\\\\1104\\\\1104_THKRAZAO.tif',\n",
       " 'C:/Users/Ricardo/Desktop/IC/Arquivos\\\\1106\\\\1106_THKRAZAO.tif',\n",
       " 'C:/Users/Ricardo/Desktop/IC/Arquivos\\\\1108\\\\1108_THKRAZAO.tif',\n",
       " 'C:/Users/Ricardo/Desktop/IC/Arquivos\\\\1109\\\\1109_THKRAZAO.tif']"
      ]
     },
     "execution_count": 2,
     "metadata": {},
     "output_type": "execute_result"
    }
   ],
   "source": [
    "addresses_tif = glob.glob('C:/Users/Ricardo/Desktop/IC/Arquivos/**/*.tif', recursive=True)   #pegando todos os .tif das pastas\n",
    "\n",
    "addresses = []\n",
    "for item in addresses_tif:                                          #pegando só os THKRAZAO dos .tif selecionados\n",
    "    if 'THKRAZAO' in item:\n",
    "        addresses.append(item)\n",
    "\n",
    "addresses = []\n",
    "for item in addresses_tif:                                          #pegando só os THKRAZAO (mapas de razão Th/K) dos .tif selecionados\n",
    "    if 'THKRAZAO' in item:\n",
    "        addresses.append(item)\n",
    "\n",
    "addresses"
   ]
  },
  {
   "cell_type": "code",
   "execution_count": 36,
   "metadata": {},
   "outputs": [],
   "source": [
    "def corte50(paths):\n",
    "    n = 1\n",
    "    for path in paths:\n",
    "        impath = path\n",
    "        mapa = cv2.imread(impath)\n",
    "        \n",
    "        if mapa.shape[0] >= mapa.shape[1]:\n",
    "            cv2.imwrite('{:04}.jpg'.format(n), mapa[:mapa.shape[0]//2, :])\n",
    "            n += 1\n",
    "            cv2.imwrite('{:04}.jpg'.format(n), mapa[mapa.shape[0]//2:, :])\n",
    "            n += 1\n",
    "        else:\n",
    "            cv2.imwrite('{:04}.jpg'.format(n), mapa[:, :mapa.shape[1]//2])\n",
    "            n += 1\n",
    "            cv2.imwrite('{:04}.jpg'.format(n), mapa[:, mapa.shape[1]//2:])\n",
    "            n += 1"
   ]
  },
  {
   "cell_type": "code",
   "execution_count": 37,
   "metadata": {},
   "outputs": [],
   "source": [
    "corte50(addresses)"
   ]
  },
  {
   "cell_type": "code",
   "execution_count": null,
   "metadata": {},
   "outputs": [],
   "source": []
  },
  {
   "cell_type": "code",
   "execution_count": null,
   "metadata": {},
   "outputs": [],
   "source": []
  },
  {
   "cell_type": "code",
   "execution_count": null,
   "metadata": {},
   "outputs": [],
   "source": []
  }
 ],
 "metadata": {
  "kernelspec": {
   "display_name": "Python [conda env:gpu] *",
   "language": "python",
   "name": "conda-env-gpu-py"
  },
  "language_info": {
   "codemirror_mode": {
    "name": "ipython",
    "version": 3
   },
   "file_extension": ".py",
   "mimetype": "text/x-python",
   "name": "python",
   "nbconvert_exporter": "python",
   "pygments_lexer": "ipython3",
   "version": "3.7.5"
  }
 },
 "nbformat": 4,
 "nbformat_minor": 2
}
